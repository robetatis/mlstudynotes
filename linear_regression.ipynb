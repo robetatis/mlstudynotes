{
 "cells": [
  {
   "cell_type": "markdown",
   "metadata": {},
   "source": []
  },
  {
   "cell_type": "code",
   "execution_count": 1,
   "metadata": {},
   "outputs": [
    {
     "ename": "ValueError",
     "evalue": "operands could not be broadcast together with shapes (350000,) (1000,) ",
     "output_type": "error",
     "traceback": [
      "\u001b[1;31m---------------------------------------------------------------------------\u001b[0m",
      "\u001b[1;31mValueError\u001b[0m                                Traceback (most recent call last)",
      "Cell \u001b[1;32mIn[1], line 25\u001b[0m\n\u001b[0;32m     22\u001b[0m beta1_grid, beta2_grid \u001b[38;5;241m=\u001b[39m np\u001b[38;5;241m.\u001b[39mmeshgrid(beta1_hat, beta2_hat)\n\u001b[0;32m     23\u001b[0m beta_grid \u001b[38;5;241m=\u001b[39m np\u001b[38;5;241m.\u001b[39mcolumn_stack([beta1_grid\u001b[38;5;241m.\u001b[39mravel(), beta2_grid\u001b[38;5;241m.\u001b[39mravel()])\n\u001b[1;32m---> 25\u001b[0m yhat \u001b[38;5;241m=\u001b[39m beta0 \u001b[38;5;241m+\u001b[39m \u001b[43mbeta_grid\u001b[49m\u001b[43m[\u001b[49m\u001b[43m:\u001b[49m\u001b[43m,\u001b[49m\u001b[43m \u001b[49m\u001b[38;5;241;43m0\u001b[39;49m\u001b[43m]\u001b[49m\u001b[38;5;241;43m*\u001b[39;49m\u001b[43mx1\u001b[49m \u001b[38;5;241m+\u001b[39m beta_grid[:, \u001b[38;5;241m1\u001b[39m]\n\u001b[0;32m     27\u001b[0m \u001b[38;5;28mprint\u001b[39m(yhat)\n\u001b[0;32m     28\u001b[0m exit()\n",
      "\u001b[1;31mValueError\u001b[0m: operands could not be broadcast together with shapes (350000,) (1000,) "
     ]
    }
   ],
   "source": [
    "import matplotlib.pyplot as plt\n",
    "import numpy as np\n",
    "import pandas as pd\n",
    "\n",
    "\n",
    "n = 1000\n",
    "beta0 = 1.4\n",
    "beta1 = 2\n",
    "beta2 = -3\n",
    "epsilon = np.random.normal(0, 4, n) \n",
    "\n",
    "x1 = np.random.uniform(10, 100, n)\n",
    "x2 = np.random.uniform(5, 224, n)\n",
    "y = beta0 + beta1*x1 - beta2*x2 + epsilon\n",
    "\n",
    "x2_collinear = 1.3 + 0.8*x1 + np.random.normal(0, 4, n) \n",
    "y_collinear = 1.4 + 2*x1 - 3*x2_collinear + np.random.normal(0, 4, n) \n",
    "\n",
    "beta1_hat = np.arange(-1, 4, 0.01)\n",
    "beta2_hat = np.arange(-6, 1, 0.01)\n",
    "\n",
    "beta1_grid, beta2_grid = np.meshgrid(beta1_hat, beta2_hat)\n",
    "beta_grid = np.column_stack([beta1_grid.ravel(), beta2_grid.ravel()])\n",
    "\n",
    "yhat = beta0 + beta_grid[:, 0]*x1 + beta_grid[:, 1]\n",
    "\n",
    "print(yhat)\n",
    "exit()\n",
    "\n",
    "print(beta_grid[0][0])\n",
    "exit()\n",
    "\n",
    "fig, ax = plt.subplots()\n",
    "ax.scatter(x1, x2)\n",
    "plt.show()"
   ]
  }
 ],
 "metadata": {
  "kernelspec": {
   "display_name": ".deepl",
   "language": "python",
   "name": "python3"
  },
  "language_info": {
   "codemirror_mode": {
    "name": "ipython",
    "version": 3
   },
   "file_extension": ".py",
   "mimetype": "text/x-python",
   "name": "python",
   "nbconvert_exporter": "python",
   "pygments_lexer": "ipython3",
   "version": "3.12.0"
  }
 },
 "nbformat": 4,
 "nbformat_minor": 2
}
